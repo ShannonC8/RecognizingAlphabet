{
 "cells": [
  {
   "cell_type": "code",
   "execution_count": 4,
   "id": "3413001f",
   "metadata": {},
   "outputs": [
    {
     "name": "stdout",
     "output_type": "stream",
     "text": [
      "Epoch 1/5\n",
      "258/258 [==============================] - 68s 261ms/step - loss: 3.3667 - accuracy: 0.1570 - val_loss: 2.5515 - val_accuracy: 0.3566\n",
      "Epoch 2/5\n",
      "258/258 [==============================] - 70s 271ms/step - loss: 1.6630 - accuracy: 0.5544 - val_loss: 1.9759 - val_accuracy: 0.5035\n",
      "Epoch 3/5\n",
      "258/258 [==============================] - 69s 269ms/step - loss: 0.8624 - accuracy: 0.7541 - val_loss: 1.7958 - val_accuracy: 0.5804\n",
      "Epoch 4/5\n",
      "258/258 [==============================] - 72s 280ms/step - loss: 0.4102 - accuracy: 0.8741 - val_loss: 2.1845 - val_accuracy: 0.5699\n",
      "Epoch 5/5\n",
      "258/258 [==============================] - 76s 295ms/step - loss: 0.2150 - accuracy: 0.9285 - val_loss: 2.4423 - val_accuracy: 0.5944\n",
      "90/90 - 26s - loss: 0.3525 - accuracy: 0.9308\n",
      "Accuracy: \n",
      "0.9307692050933838\n"
     ]
    }
   ],
   "source": [
    "import matplotlib.pyplot as plt\n",
    "import numpy as np \n",
    "import PIL #Python Imaging Library\n",
    "import tensorflow as tf \n",
    "from tensorflow import keras\n",
    "from tensorflow.keras import layers\n",
    "from tensorflow.keras.datasets import cifar10\n",
    "from tensorflow.keras.preprocessing.image import ImageDataGenerator\n",
    "from tensorflow.keras.models import Sequential\n",
    "from tensorflow.keras.layers import Dense,Dropout,Activation,Flatten,Conv2D,MaxPooling2D\n",
    "from tensorflow.keras.callbacks import TensorBoard\n",
    "import os\n",
    "import cv2\n",
    "import matplotlib.pyplot as plt\n",
    " \n",
    "\n",
    "#importing dataset\n",
    "DATASET = r\"C:\\Users\\shann\\Documents\\English\\Hnd\\Img\" #here is where you put the directory\n",
    "CATEGORIES = ['A','B','C','D','E','F','G','H','I','J','K','L','M','N','O','P','Q','R','S','T','U','V','W','X','Y','Z',\n",
    "             'lowerA','lowerB','lowerC','lowerD','lowerE','lowerF','lowerG','lowerH','lowerI','lowerJ','lowerK','lowerL',\n",
    "              'lowerM','lowerN','lowerO','lowerP','lowerQ','lowerR','lowerS','lowerT','lowerU','lowerV','lowerW',\n",
    "              'lowerX','lowerY','lowerZ']\n",
    "\n",
    "\n",
    "for category in CATEGORIES:\n",
    "    path = os.path.join(DATASET, category) #path to letters\n",
    "    for img in os.listdir(path):\n",
    "        img_array = cv2.imread(os.path.join(path,img),cv2.IMREAD_GRAYSCALE)#convert to grayscale(rgb 3 times size)\n",
    "        break\n",
    "    break\n",
    " \n",
    "IMG_SIZE = 100\n",
    "new_array = cv2.resize(img_array,(IMG_SIZE,IMG_SIZE))  \n",
    "\n",
    "#create training dataset function\n",
    "training_data = []\n",
    "img_array = []\n",
    "new_array = []\n",
    "\n",
    "\n",
    "def create_training_data():\n",
    "    for category in CATEGORIES:\n",
    "        path = os.path.join(DATASET, category) #path to letters\n",
    "        class_num = CATEGORIES.index(category)#have the outputs be a numerical value\n",
    "        for img in os.listdir(path):\n",
    "            try:\n",
    "                img_array = cv2.imread(os.path.join(path,img),cv2.IMREAD_GRAYSCALE)#convert to grayscale(rgb 3 times size)\n",
    "                new_array = cv2.resize(img_array,(IMG_SIZE,IMG_SIZE)) #resize operation\n",
    "                training_data.append([new_array,class_num])#add to end of list training_data\n",
    "            except Exception as e:\n",
    "                    print(e)\n",
    "                    pass\n",
    "create_training_data()\n",
    "\n",
    "#need to shuffle\n",
    "import random\n",
    "random.shuffle(training_data)\n",
    "\n",
    "\n",
    "X = []#feature(The features are the descriptive attributes)\n",
    "Y = []#label(label is what you're attempting to predict or forecast.)\n",
    "\n",
    "#btw training_data is two dimensional\n",
    "for features, label in training_data:\n",
    "    X.append(features)\n",
    "    Y.append(label)\n",
    "    #np.array((Y,label),dtype=object)\n",
    "\n",
    "#can't pass list to neural network, need convert to numpy array\n",
    "X = np.array(X).reshape(-1,IMG_SIZE,IMG_SIZE,1)#-1 amt of features is catch all(any number), 1 means greyscale\n",
    "Y = np.array(Y)\n",
    "\n",
    "#we need to normalize data(scale it, max 225, min 0. divide 255)\n",
    "# Normalize pixel values to be between 0 and 1\n",
    "X = X/255.0\n",
    "\n",
    "#Sequences are one of the principal built-in data types besides numerics, mappings, \n",
    "#files, instances and exceptions. Python provides for six sequence\n",
    "model =  Sequential()\n",
    "\n",
    "model.add(   Conv2D(126,(3,3),input_shape = X.shape[1:])   )#add convulutional layer\n",
    "model.add(Activation(\"relu\"))#add activation layer(linear or non linear equations which process the output of a Neural Network’s neuron and bound it into a limited range of values)\n",
    "model.add(MaxPooling2D(pool_size = (2,2)))#add pooling layer\n",
    "\n",
    "model.add(  Conv2D(126,(3,3)  ))#add convulutional layer\n",
    "model.add(Activation(\"relu\"))#add activation layer\n",
    "model.add(MaxPooling2D(pool_size = (2,2)))#add pooling layer\n",
    "\n",
    "#now we have 2x64 covulutional neural network\n",
    "model.add(Flatten())#need flatten because dense needs one dimesnioal array\n",
    "\n",
    "model.add(Dense(126))#add dense layer\n",
    "model.add(Activation('relu'))\n",
    "\n",
    "#A dense layer will consider the ENTIRE image. It will look at all the pixels and use that information to generate some output.\n",
    "model.add(Dense(52))\n",
    "model.add(Activation('sigmoid'))#softmax\n",
    "\n",
    "#adam and categorical didn't work **LOOK IT UP LATER\n",
    "model.compile(loss='sparse_categorical_crossentropy', optimizer='adam', metrics=['accuracy'])\n",
    "\n",
    "#batch size is how many images at a time we want to pass(usally 20s to 200)\n",
    "#epoch is how many times we test it(dont want to overtest! but you could raise epoch number for higher accuracy)\n",
    "model.fit(X,Y,batch_size = 10, epochs = 5, validation_split = 0.1 )\n",
    "\n",
    "#printing the accuracy(not needed because it already shows but this is just to show how to do it)\n",
    "test_loss, test_acc = model.evaluate(X, Y, verbose=2)\n",
    "print(\"Accuracy: \")\n",
    "print( test_acc)"
   ]
  },
  {
   "cell_type": "code",
   "execution_count": 20,
   "id": "3d132fe1",
   "metadata": {},
   "outputs": [
    {
     "name": "stdout",
     "output_type": "stream",
     "text": [
      "enter index number to test 75\n",
      "A\n"
     ]
    },
    {
     "data": {
      "image/png": "[encoded data removed]",
      "text/plain": [
       "<Figure size 432x288 with 2 Axes>"
      ]
     },
     "metadata": {
      "needs_background": "light"
     },
     "output_type": "display_data"
    }
   ],
   "source": [
    "#testing the model\n",
    "\n",
    "LETTER = ['A','B','C','D','E','F','G','H','I','J','K','L','M','N','O','P','Q','R','S','T','U','V','W','X','Y','Z']\n",
    "num = int(input(\"enter index number to test \"))#the index you want to test\n",
    "predictions = model.predict(X) \n",
    "\n",
    "if (np.argmax(predictions[num])>25):\n",
    "    print(LETTER[np.argmax(predictions[num])-26])\n",
    "else:\n",
    "    print(LETTER[np.argmax(predictions[num])])\n",
    "plt.figure\n",
    "plt.imshow(X[num],cmap='gray')\n",
    "plt.colorbar()\n",
    "plt.grid(False)\n",
    "plt.show()"
   ]
  },
  {
   "cell_type": "code",
   "execution_count": 19,
   "id": "fb54fb75",
   "metadata": {},
   "outputs": [
    {
     "name": "stdout",
     "output_type": "stream",
     "text": [
      "INFO:tensorflow:Assets written to: C:\\Users\\shann\\assets\n"
     ]
    }
   ],
   "source": [
    "mobilenet_save_path= r\"C:\\Users\\shann\"\n",
    "tf.keras.models.save_model(model, mobilenet_save_path)"
   ]
  },
  {
   "cell_type": "code",
   "execution_count": null,
   "id": "ba3ae874",
   "metadata": {},
   "outputs": [],
   "source": []
  }
 ],
 "metadata": {
  "kernelspec": {
   "display_name": "Python 3",
   "language": "python",
   "name": "python3"
  },
  "language_info": {
   "codemirror_mode": {
    "name": "ipython",
    "version": 3
   },
   "file_extension": ".py",
   "mimetype": "text/x-python",
   "name": "python",
   "nbconvert_exporter": "python",
   "pygments_lexer": "ipython3",
   "version": "3.9.1"
  }
 },
 "nbformat": 4,
 "nbformat_minor": 5
}
